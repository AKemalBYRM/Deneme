{
  "nbformat": 4,
  "nbformat_minor": 0,
  "metadata": {
    "colab": {
      "name": "Armstrong.ipynb",
      "provenance": [],
      "collapsed_sections": []
    },
    "kernelspec": {
      "name": "python3",
      "display_name": "Python 3"
    },
    "language_info": {
      "name": "python"
    }
  },
  "cells": [
    {
      "cell_type": "code",
      "metadata": {
        "colab": {
          "base_uri": "https://localhost:8080/"
        },
        "id": "k4uk3NoyKH5n",
        "outputId": "cc5bfb45-3cd4-4502-c717-64fe8979b12a"
      },
      "source": [
        "number = input(\"Enter a number :\")\n",
        "x = len(number)\n",
        "toplam = 0\n",
        "if int(number) > 0 :\n",
        "    for i in number :\n",
        "      toplam = int(i) ** x + toplam\n",
        "    if toplam == int(number) :\n",
        "      print(f\" {number} is an Armstrong number.\")\n",
        "    else :\n",
        "      print(f\" {number} is not an Armstrong number.\")\n",
        "else :\n",
        "    print(\"It is an invalid entry. Don't use non-numeric, float, or negative values!\")"
      ],
      "execution_count": 16,
      "outputs": [
        {
          "output_type": "stream",
          "name": "stdout",
          "text": [
            "Enter a number :407\n",
            " 407 is an Armstrong number.\n"
          ]
        }
      ]
    }
  ]
}
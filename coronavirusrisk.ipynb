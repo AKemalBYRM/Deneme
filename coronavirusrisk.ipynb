{
  "nbformat": 4,
  "nbformat_minor": 0,
  "metadata": {
    "colab": {
      "name": "coronavirusrisk.ipynb",
      "provenance": []
    },
    "kernelspec": {
      "name": "python3",
      "display_name": "Python 3"
    },
    "language_info": {
      "name": "python"
    }
  },
  "cells": [
    {
      "cell_type": "code",
      "metadata": {
        "colab": {
          "base_uri": "https://localhost:8080/"
        },
        "id": "zsXdicGF_Cie",
        "outputId": "30461acb-cf0f-424c-b908-bac989b54db9"
      },
      "source": [
        "age = input(\"Are you a cigarette addict older than 75 years old? Yes/No :\").title()\n",
        "chronic = input(\"Do you have a severe chronic disease? Yes/No :\").title()\n",
        "immune = input(\"Is your immune system too weak? Yes/No :\").title()\n",
        "#risk = True\n",
        "if age == \"No\" and chronic == \"No\" and immune == \"No\" :\n",
        "#  risk =False\n",
        "  print(\"You are NOT in risky group\")\n",
        "else :\n",
        "    print(\"You are in risky group\")"
      ],
      "execution_count": 1,
      "outputs": [
        {
          "output_type": "stream",
          "name": "stdout",
          "text": [
            "Are you a cigarette addict older than 75 years old? Yes/No :no\n",
            "Do you have a severe chronic disease? Yes/No :no\n",
            "Is your immune system too weak? Yes/No :no\n",
            "You are NOT in risky group\n"
          ]
        }
      ]
    }
  ]
}
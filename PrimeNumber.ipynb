{
  "nbformat": 4,
  "nbformat_minor": 0,
  "metadata": {
    "colab": {
      "name": "PrimeNumber.ipynb",
      "provenance": [],
      "collapsed_sections": []
    },
    "kernelspec": {
      "name": "python3",
      "display_name": "Python 3"
    },
    "language_info": {
      "name": "python"
    }
  },
  "cells": [
    {
      "cell_type": "code",
      "metadata": {
        "colab": {
          "base_uri": "https://localhost:8080/"
        },
        "id": "pPEjklppmHMG",
        "outputId": "3e9e48a5-ca04-4d54-a3f5-43a39ce9df1f"
      },
      "source": [
        "number = int(input(\"Enter a number :\"))\n",
        "x = 0\n",
        "for i in range(2, number) :\n",
        "  if number % i == 0 :\n",
        "    x += 1\n",
        "    # print(i) # bölen sayıları göstermek için\n",
        "if x == 0 and number != 1 :\n",
        "  print(f\" {number} is a prime number.\")   \n",
        "else :\n",
        "  print(f\" {number} is not a prime number.\")   \n",
        "# print(x) # kaç tane bölen var  \n"
      ],
      "execution_count": 15,
      "outputs": [
        {
          "output_type": "stream",
          "name": "stdout",
          "text": [
            "Enter a number :1105\n",
            " 1105 is not a prime number.\n"
          ]
        }
      ]
    }
  ]
}
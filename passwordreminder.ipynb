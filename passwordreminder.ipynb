{
  "nbformat": 4,
  "nbformat_minor": 0,
  "metadata": {
    "colab": {
      "name": "passwordreminder.ipynb",
      "provenance": [],
      "collapsed_sections": []
    },
    "kernelspec": {
      "name": "python3",
      "display_name": "Python 3"
    },
    "language_info": {
      "name": "python"
    }
  },
  "cells": [
    {
      "cell_type": "code",
      "metadata": {
        "colab": {
          "base_uri": "https://localhost:8080/"
        },
        "id": "HjBYmAPc9M3I",
        "outputId": "820eaa71-68b3-41a8-d02e-af970677c4d1"
      },
      "source": [
        "name = \"Joseph\"\n",
        "pswrd = \"W@12\"\n",
        "name1 = input(\"Enter your name: \")\n",
        "if name == name1.title():\n",
        "  print(f\"Hello, {name1.title()}! The password is : {pswrd}\")\n",
        "else:\n",
        "  print(f\"Hello, {name1.title()}! See you later. \")"
      ],
      "execution_count": 1,
      "outputs": [
        {
          "output_type": "stream",
          "name": "stdout",
          "text": [
            "Enter your name: Kemal\n",
            "Hello, Kemal! See you later. \n"
          ]
        }
      ]
    }
  ]
}